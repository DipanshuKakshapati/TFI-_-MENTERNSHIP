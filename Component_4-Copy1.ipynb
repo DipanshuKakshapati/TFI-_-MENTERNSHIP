{
 "cells": [
  {
   "cell_type": "markdown",
   "id": "c38480f6",
   "metadata": {},
   "source": [
    "### Build a model to predict performance of employees, based on the visualisation and analysis of past data of employee performance "
   ]
  },
  {
   "cell_type": "markdown",
   "id": "f9d52246",
   "metadata": {},
   "source": [
    "- Teach for India has approximately 900+ fellows who are deployed across 7 cities and are working with 28000 students. Many of these students do not have the reading and numeracy skills required at their grade level. The ability to predict employee performance will enable TFI to implement learning and development measures to empower their fellows to improve the reading levels of their students.\n",
    "- Here, I will use Python to create an HR analytics tool that can help a talent management team to predict employee performance and plan for their growth."
   ]
  },
  {
   "cell_type": "code",
   "execution_count": 76,
   "id": "8279b2c0",
   "metadata": {},
   "outputs": [],
   "source": [
    "#importing required libraries\n",
    "import pandas as pd\n",
    "import numpy as np\n",
    "import matplotlib.pyplot as plt"
   ]
  },
  {
   "cell_type": "markdown",
   "id": "984769d0",
   "metadata": {},
   "source": [
    "### Reading the Data into the dataframe"
   ]
  },
  {
   "cell_type": "code",
   "execution_count": 77,
   "id": "81c81762",
   "metadata": {},
   "outputs": [
    {
     "data": {
      "text/html": [
       "<div>\n",
       "<style scoped>\n",
       "    .dataframe tbody tr th:only-of-type {\n",
       "        vertical-align: middle;\n",
       "    }\n",
       "\n",
       "    .dataframe tbody tr th {\n",
       "        vertical-align: top;\n",
       "    }\n",
       "\n",
       "    .dataframe thead th {\n",
       "        text-align: right;\n",
       "    }\n",
       "</style>\n",
       "<table border=\"1\" class=\"dataframe\">\n",
       "  <thead>\n",
       "    <tr style=\"text-align: right;\">\n",
       "      <th></th>\n",
       "      <th>employee_id</th>\n",
       "      <th>department</th>\n",
       "      <th>region</th>\n",
       "      <th>education</th>\n",
       "      <th>gender</th>\n",
       "      <th>recruitment_channel</th>\n",
       "      <th>no_of_trainings</th>\n",
       "      <th>age</th>\n",
       "      <th>previous_year_rating</th>\n",
       "      <th>length_of_service</th>\n",
       "      <th>KPIs_met &gt;80%</th>\n",
       "      <th>awards_won?</th>\n",
       "      <th>avg_training_score</th>\n",
       "    </tr>\n",
       "  </thead>\n",
       "  <tbody>\n",
       "    <tr>\n",
       "      <th>0</th>\n",
       "      <td>8724</td>\n",
       "      <td>Technology</td>\n",
       "      <td>region_26</td>\n",
       "      <td>Bachelor's</td>\n",
       "      <td>m</td>\n",
       "      <td>sourcing</td>\n",
       "      <td>1</td>\n",
       "      <td>24</td>\n",
       "      <td>NaN</td>\n",
       "      <td>1</td>\n",
       "      <td>1</td>\n",
       "      <td>0</td>\n",
       "      <td>77</td>\n",
       "    </tr>\n",
       "    <tr>\n",
       "      <th>1</th>\n",
       "      <td>74430</td>\n",
       "      <td>HR</td>\n",
       "      <td>region_4</td>\n",
       "      <td>Bachelor's</td>\n",
       "      <td>f</td>\n",
       "      <td>other</td>\n",
       "      <td>1</td>\n",
       "      <td>31</td>\n",
       "      <td>3.0</td>\n",
       "      <td>5</td>\n",
       "      <td>0</td>\n",
       "      <td>0</td>\n",
       "      <td>51</td>\n",
       "    </tr>\n",
       "    <tr>\n",
       "      <th>2</th>\n",
       "      <td>72255</td>\n",
       "      <td>Sales &amp; Marketing</td>\n",
       "      <td>region_13</td>\n",
       "      <td>Bachelor's</td>\n",
       "      <td>m</td>\n",
       "      <td>other</td>\n",
       "      <td>1</td>\n",
       "      <td>31</td>\n",
       "      <td>1.0</td>\n",
       "      <td>4</td>\n",
       "      <td>0</td>\n",
       "      <td>0</td>\n",
       "      <td>47</td>\n",
       "    </tr>\n",
       "    <tr>\n",
       "      <th>3</th>\n",
       "      <td>38562</td>\n",
       "      <td>Procurement</td>\n",
       "      <td>region_2</td>\n",
       "      <td>Bachelor's</td>\n",
       "      <td>f</td>\n",
       "      <td>other</td>\n",
       "      <td>3</td>\n",
       "      <td>31</td>\n",
       "      <td>2.0</td>\n",
       "      <td>9</td>\n",
       "      <td>0</td>\n",
       "      <td>0</td>\n",
       "      <td>65</td>\n",
       "    </tr>\n",
       "    <tr>\n",
       "      <th>4</th>\n",
       "      <td>64486</td>\n",
       "      <td>Finance</td>\n",
       "      <td>region_29</td>\n",
       "      <td>Bachelor's</td>\n",
       "      <td>m</td>\n",
       "      <td>sourcing</td>\n",
       "      <td>1</td>\n",
       "      <td>30</td>\n",
       "      <td>4.0</td>\n",
       "      <td>7</td>\n",
       "      <td>0</td>\n",
       "      <td>0</td>\n",
       "      <td>61</td>\n",
       "    </tr>\n",
       "    <tr>\n",
       "      <th>...</th>\n",
       "      <td>...</td>\n",
       "      <td>...</td>\n",
       "      <td>...</td>\n",
       "      <td>...</td>\n",
       "      <td>...</td>\n",
       "      <td>...</td>\n",
       "      <td>...</td>\n",
       "      <td>...</td>\n",
       "      <td>...</td>\n",
       "      <td>...</td>\n",
       "      <td>...</td>\n",
       "      <td>...</td>\n",
       "      <td>...</td>\n",
       "    </tr>\n",
       "    <tr>\n",
       "      <th>23485</th>\n",
       "      <td>53478</td>\n",
       "      <td>Legal</td>\n",
       "      <td>region_2</td>\n",
       "      <td>Below Secondary</td>\n",
       "      <td>m</td>\n",
       "      <td>sourcing</td>\n",
       "      <td>1</td>\n",
       "      <td>24</td>\n",
       "      <td>3.0</td>\n",
       "      <td>1</td>\n",
       "      <td>0</td>\n",
       "      <td>0</td>\n",
       "      <td>61</td>\n",
       "    </tr>\n",
       "    <tr>\n",
       "      <th>23486</th>\n",
       "      <td>25600</td>\n",
       "      <td>Technology</td>\n",
       "      <td>region_25</td>\n",
       "      <td>Bachelor's</td>\n",
       "      <td>m</td>\n",
       "      <td>sourcing</td>\n",
       "      <td>1</td>\n",
       "      <td>31</td>\n",
       "      <td>3.0</td>\n",
       "      <td>7</td>\n",
       "      <td>0</td>\n",
       "      <td>0</td>\n",
       "      <td>74</td>\n",
       "    </tr>\n",
       "    <tr>\n",
       "      <th>23487</th>\n",
       "      <td>45409</td>\n",
       "      <td>HR</td>\n",
       "      <td>region_16</td>\n",
       "      <td>Bachelor's</td>\n",
       "      <td>f</td>\n",
       "      <td>sourcing</td>\n",
       "      <td>1</td>\n",
       "      <td>26</td>\n",
       "      <td>4.0</td>\n",
       "      <td>4</td>\n",
       "      <td>0</td>\n",
       "      <td>0</td>\n",
       "      <td>50</td>\n",
       "    </tr>\n",
       "    <tr>\n",
       "      <th>23488</th>\n",
       "      <td>1186</td>\n",
       "      <td>Procurement</td>\n",
       "      <td>region_31</td>\n",
       "      <td>Bachelor's</td>\n",
       "      <td>m</td>\n",
       "      <td>sourcing</td>\n",
       "      <td>3</td>\n",
       "      <td>27</td>\n",
       "      <td>NaN</td>\n",
       "      <td>1</td>\n",
       "      <td>0</td>\n",
       "      <td>0</td>\n",
       "      <td>70</td>\n",
       "    </tr>\n",
       "    <tr>\n",
       "      <th>23489</th>\n",
       "      <td>5973</td>\n",
       "      <td>Technology</td>\n",
       "      <td>region_17</td>\n",
       "      <td>Master's &amp; above</td>\n",
       "      <td>m</td>\n",
       "      <td>other</td>\n",
       "      <td>3</td>\n",
       "      <td>40</td>\n",
       "      <td>5.0</td>\n",
       "      <td>5</td>\n",
       "      <td>1</td>\n",
       "      <td>0</td>\n",
       "      <td>89</td>\n",
       "    </tr>\n",
       "  </tbody>\n",
       "</table>\n",
       "<p>23490 rows × 13 columns</p>\n",
       "</div>"
      ],
      "text/plain": [
       "       employee_id         department     region         education gender  \\\n",
       "0             8724         Technology  region_26        Bachelor's      m   \n",
       "1            74430                 HR   region_4        Bachelor's      f   \n",
       "2            72255  Sales & Marketing  region_13        Bachelor's      m   \n",
       "3            38562        Procurement   region_2        Bachelor's      f   \n",
       "4            64486            Finance  region_29        Bachelor's      m   \n",
       "...            ...                ...        ...               ...    ...   \n",
       "23485        53478              Legal   region_2   Below Secondary      m   \n",
       "23486        25600         Technology  region_25        Bachelor's      m   \n",
       "23487        45409                 HR  region_16        Bachelor's      f   \n",
       "23488         1186        Procurement  region_31        Bachelor's      m   \n",
       "23489         5973         Technology  region_17  Master's & above      m   \n",
       "\n",
       "      recruitment_channel  no_of_trainings  age  previous_year_rating  \\\n",
       "0                sourcing                1   24                   NaN   \n",
       "1                   other                1   31                   3.0   \n",
       "2                   other                1   31                   1.0   \n",
       "3                   other                3   31                   2.0   \n",
       "4                sourcing                1   30                   4.0   \n",
       "...                   ...              ...  ...                   ...   \n",
       "23485            sourcing                1   24                   3.0   \n",
       "23486            sourcing                1   31                   3.0   \n",
       "23487            sourcing                1   26                   4.0   \n",
       "23488            sourcing                3   27                   NaN   \n",
       "23489               other                3   40                   5.0   \n",
       "\n",
       "       length_of_service  KPIs_met >80%  awards_won?  avg_training_score  \n",
       "0                      1              1            0                  77  \n",
       "1                      5              0            0                  51  \n",
       "2                      4              0            0                  47  \n",
       "3                      9              0            0                  65  \n",
       "4                      7              0            0                  61  \n",
       "...                  ...            ...          ...                 ...  \n",
       "23485                  1              0            0                  61  \n",
       "23486                  7              0            0                  74  \n",
       "23487                  4              0            0                  50  \n",
       "23488                  1              0            0                  70  \n",
       "23489                  5              1            0                  89  \n",
       "\n",
       "[23490 rows x 13 columns]"
      ]
     },
     "execution_count": 77,
     "metadata": {},
     "output_type": "execute_result"
    }
   ],
   "source": [
    "#reading data into the df dataframe\n",
    "df = pd.read_csv('Test_Data.csv')\n",
    "df"
   ]
  },
  {
   "cell_type": "code",
   "execution_count": 78,
   "id": "3b9440b8",
   "metadata": {},
   "outputs": [
    {
     "name": "stdout",
     "output_type": "stream",
     "text": [
      "<class 'pandas.core.frame.DataFrame'>\n",
      "RangeIndex: 23490 entries, 0 to 23489\n",
      "Data columns (total 13 columns):\n",
      " #   Column                Non-Null Count  Dtype  \n",
      "---  ------                --------------  -----  \n",
      " 0   employee_id           23490 non-null  int64  \n",
      " 1   department            23490 non-null  object \n",
      " 2   region                23490 non-null  object \n",
      " 3   education             22456 non-null  object \n",
      " 4   gender                23490 non-null  object \n",
      " 5   recruitment_channel   23490 non-null  object \n",
      " 6   no_of_trainings       23490 non-null  int64  \n",
      " 7   age                   23490 non-null  int64  \n",
      " 8   previous_year_rating  21678 non-null  float64\n",
      " 9   length_of_service     23490 non-null  int64  \n",
      " 10  KPIs_met >80%         23490 non-null  int64  \n",
      " 11  awards_won?           23490 non-null  int64  \n",
      " 12  avg_training_score    23490 non-null  int64  \n",
      "dtypes: float64(1), int64(7), object(5)\n",
      "memory usage: 2.3+ MB\n"
     ]
    }
   ],
   "source": [
    "#checking the data types\n",
    "df.info()"
   ]
  },
  {
   "cell_type": "markdown",
   "id": "28b12950",
   "metadata": {},
   "source": [
    "### Data Cleaning"
   ]
  },
  {
   "cell_type": "code",
   "execution_count": 79,
   "id": "d1ea7546",
   "metadata": {},
   "outputs": [
    {
     "data": {
      "text/plain": [
       "employee_id                0\n",
       "department                 0\n",
       "region                     0\n",
       "education               1034\n",
       "gender                     0\n",
       "recruitment_channel        0\n",
       "no_of_trainings            0\n",
       "age                        0\n",
       "previous_year_rating    1812\n",
       "length_of_service          0\n",
       "KPIs_met >80%              0\n",
       "awards_won?                0\n",
       "avg_training_score         0\n",
       "dtype: int64"
      ]
     },
     "execution_count": 79,
     "metadata": {},
     "output_type": "execute_result"
    }
   ],
   "source": [
    "#checking to see if any column contains null values\n",
    "df.isnull().sum()"
   ]
  },
  {
   "cell_type": "markdown",
   "id": "84e5d0c8",
   "metadata": {},
   "source": [
    "In the columns 'employee_education_level' and 'emplpoyee_previous_year_rating' there are some null values."
   ]
  },
  {
   "cell_type": "markdown",
   "id": "107fdb6b",
   "metadata": {},
   "source": [
    "##### Variable 1: employee_education_level"
   ]
  },
  {
   "cell_type": "code",
   "execution_count": 80,
   "id": "f1e80838",
   "metadata": {},
   "outputs": [],
   "source": [
    "education_value_counts=df['education'].value_counts()"
   ]
  },
  {
   "cell_type": "code",
   "execution_count": 81,
   "id": "22ffe8ce",
   "metadata": {},
   "outputs": [
    {
     "data": {
      "image/png": "[encoded data removed]",
      "text/plain": [
       "<Figure size 640x480 with 1 Axes>"
      ]
     },
     "metadata": {},
     "output_type": "display_data"
    }
   ],
   "source": [
    "education_value_counts.plot(kind='bar', rot=25)\n",
    "plt.ylabel('Value Counts')\n",
    "plt.show()"
   ]
  },
  {
   "cell_type": "markdown",
   "id": "30e6f598",
   "metadata": {},
   "source": [
    "- The dataset likely represents TFI where a Bachelor's degree is the most common educational qualification among employees.\n",
    "- Employees with a Master's degree or higher are present but in a smaller proportion. \n",
    "- The 'Below Secondary' count is minimal, which may reflect minimum educational requirements for employment."
   ]
  },
  {
   "cell_type": "markdown",
   "id": "1319508c",
   "metadata": {},
   "source": [
    "- The dataset likely represents an organization or a sector where a Bachelor's degree is the most common educational qualification among employees.\n",
    "- Employees with a Master's degree or higher are present but in a smaller proportion. This could suggest that the roles in TFI do not necessarily require education beyond a Bachelor's degree, or that such qualifications are less common in the population represented.\n",
    "- The 'Below Secondary' count is minimal, which may reflect minimum educational requirements for employment in the roles included in the TFI. "
   ]
  },
  {
   "cell_type": "code",
   "execution_count": 82,
   "id": "43e7d5e8",
   "metadata": {},
   "outputs": [],
   "source": [
    "#Treating null values in 'employee_education_level' variable\n",
    "\n",
    "#function to replace null values with Others in the variable\n",
    "def treat_null_in_education(df, col_name):\n",
    "    df[col_name] = df[col_name].fillna('Others')\n",
    "\n",
    "treat_null_in_education(df, 'education')"
   ]
  },
  {
   "cell_type": "markdown",
   "id": "88a26da7",
   "metadata": {},
   "source": [
    "To prevent data loss I labeled the null values with 'Others'. At the end of data cleaning, the goal is to retain as much as data as possible."
   ]
  },
  {
   "cell_type": "code",
   "execution_count": 83,
   "id": "3491c48f",
   "metadata": {},
   "outputs": [],
   "source": [
    "new_education_value_counts = df['education'].value_counts()"
   ]
  },
  {
   "cell_type": "code",
   "execution_count": 84,
   "id": "ae9ff4c7",
   "metadata": {},
   "outputs": [
    {
     "data": {
      "image/png": "[encoded data removed]",
      "text/plain": [
       "<Figure size 640x480 with 1 Axes>"
      ]
     },
     "metadata": {},
     "output_type": "display_data"
    }
   ],
   "source": [
    "new_education_value_counts.plot(kind='bar', rot=30)\n",
    "plt.ylabel('Value Counts')\n",
    "plt.show()"
   ]
  },
  {
   "cell_type": "markdown",
   "id": "a5bd9b0a",
   "metadata": {},
   "source": [
    "The 'Others' category is now included, which contains a count of the previously missing or null data points in the 'employee_education_level' column."
   ]
  },
  {
   "cell_type": "markdown",
   "id": "a6d62caf",
   "metadata": {},
   "source": [
    "##### Variable 2: employee_previous_year_rating"
   ]
  },
  {
   "cell_type": "code",
   "execution_count": 85,
   "id": "f030432e",
   "metadata": {
    "scrolled": true
   },
   "outputs": [],
   "source": [
    "#dropping null values from the 'employee_previous_year_rating' column.\n",
    "df = df.dropna(subset=['previous_year_rating'])"
   ]
  },
  {
   "cell_type": "markdown",
   "id": "02a79f24",
   "metadata": {},
   "source": [
    "The missing data is not significant enough to bias the results."
   ]
  },
  {
   "cell_type": "code",
   "execution_count": 86,
   "id": "d812c587",
   "metadata": {},
   "outputs": [],
   "source": [
    "rating_value_counts = df['previous_year_rating'].value_counts()"
   ]
  },
  {
   "cell_type": "code",
   "execution_count": 87,
   "id": "e0a7c6cf",
   "metadata": {},
   "outputs": [
    {
     "data": {
      "image/png": "[encoded data removed]",
      "text/plain": [
       "<Figure size 640x480 with 1 Axes>"
      ]
     },
     "metadata": {},
     "output_type": "display_data"
    }
   ],
   "source": [
    "rating_value_counts.plot(kind='bar', rot=0)\n",
    "plt.show()"
   ]
  },
  {
   "cell_type": "markdown",
   "id": "185bdfec",
   "metadata": {},
   "source": [
    "- Rating '3.0' has the highest count, suggesting that most employees received a middle-of-the-road performance rating.\n",
    "- The second most common rating is '5.0', indicating a significant number of employees were rated as high performers.\n",
    "- Rating '4.0' is slightly less common than '5.0', but still represents a large number of employees.\n",
    "- Ratings '1.0' and '2.0' are the least common, with '1.0' being the rarest. This could imply that very few employees receive the lowest performance ratings."
   ]
  },
  {
   "cell_type": "markdown",
   "id": "8ef6cd86",
   "metadata": {},
   "source": [
    "- The distribution of ratings suggests a standard performance curve where most employees are considered to be performing at an expected level ('3.0'), with fewer employees recognized as high ('5.0') or above average ('4.0') performers.\n",
    "- The low occurrence of '1.0' and '2.0' ratings might indicate a lenient rating system, a high overall performance level, or potentially a reluctance to assign low ratings."
   ]
  },
  {
   "cell_type": "code",
   "execution_count": 88,
   "id": "d54971e2",
   "metadata": {},
   "outputs": [
    {
     "data": {
      "text/plain": [
       "employee_id             0\n",
       "department              0\n",
       "region                  0\n",
       "education               0\n",
       "gender                  0\n",
       "recruitment_channel     0\n",
       "no_of_trainings         0\n",
       "age                     0\n",
       "previous_year_rating    0\n",
       "length_of_service       0\n",
       "KPIs_met >80%           0\n",
       "awards_won?             0\n",
       "avg_training_score      0\n",
       "dtype: int64"
      ]
     },
     "execution_count": 88,
     "metadata": {},
     "output_type": "execute_result"
    }
   ],
   "source": [
    "#making sure there are no more null values\n",
    "df.isnull().sum()"
   ]
  },
  {
   "cell_type": "markdown",
   "id": "7d0526fe",
   "metadata": {},
   "source": [
    "After performing data cleaning, there are no more null values present."
   ]
  },
  {
   "cell_type": "code",
   "execution_count": 89,
   "id": "b33c9272",
   "metadata": {
    "scrolled": true
   },
   "outputs": [
    {
     "name": "stderr",
     "output_type": "stream",
     "text": [
      "/var/folders/_b/ygjd3hwd5wj6hwcczmfy35gh0000gn/T/ipykernel_23848/170088742.py:1: SettingWithCopyWarning: \n",
      "A value is trying to be set on a copy of a slice from a DataFrame\n",
      "\n",
      "See the caveats in the documentation: https://pandas.pydata.org/pandas-docs/stable/user_guide/indexing.html#returning-a-view-versus-a-copy\n",
      "  df.rename(columns={'awards_won?':'awards_won'}, inplace=1)\n"
     ]
    }
   ],
   "source": [
    "df.rename(columns={'awards_won?':'awards_won'}, inplace=1)"
   ]
  },
  {
   "cell_type": "code",
   "execution_count": 90,
   "id": "0dd66a1d",
   "metadata": {
    "scrolled": false
   },
   "outputs": [
    {
     "name": "stdout",
     "output_type": "stream",
     "text": [
      "[LightGBM] [Info] Number of positive: 6185, number of negative: 11157\n",
      "[LightGBM] [Info] Auto-choosing row-wise multi-threading, the overhead of testing was 0.000876 seconds.\n",
      "You can set `force_row_wise=true` to remove the overhead.\n",
      "And if memory is not enough, you can set `force_col_wise=true`.\n",
      "[LightGBM] [Info] Total Bins 255\n",
      "[LightGBM] [Info] Number of data points in the train set: 17342, number of used features: 57\n",
      "[LightGBM] [Info] [binary:BoostFromScore]: pavg=0.356649 -> initscore=-0.589940\n",
      "[LightGBM] [Info] Start training from score -0.589940\n",
      "Test Accuracy: 0.7237084870848709\n"
     ]
    }
   ],
   "source": [
    "import pandas as pd\n",
    "from sklearn.model_selection import train_test_split\n",
    "from sklearn.compose import ColumnTransformer\n",
    "from sklearn.pipeline import Pipeline\n",
    "from sklearn.preprocessing import StandardScaler, OneHotEncoder\n",
    "from lightgbm import LGBMClassifier\n",
    "from sklearn.metrics import accuracy_score\n",
    "import matplotlib.pyplot as plt\n",
    "import seaborn as sns\n",
    "\n",
    "# Load your dataset (uncomment and replace the path with your actual file path)\n",
    "# df = pd.read_csv('path/to/your/Test_data.csv')\n",
    "\n",
    "# Define your features and target variable\n",
    "numeric_features = ['no_of_trainings', 'age', 'previous_year_rating', 'length_of_service', 'awards_won', 'avg_training_score']\n",
    "categorical_features = ['department', 'region', 'education', 'gender', 'recruitment_channel']\n",
    "target_variable = 'KPIs_met >80%'\n",
    "\n",
    "# Prepare X and y\n",
    "X = df[numeric_features + categorical_features]\n",
    "y = df[target_variable]\n",
    "\n",
    "# Splitting the data\n",
    "X_train, X_test, y_train, y_test = train_test_split(X, y, test_size=0.2, random_state=42)\n",
    "\n",
    "# Preprocessing for numeric features\n",
    "numeric_transformer = Pipeline(steps=[\n",
    "    ('scaler', StandardScaler())\n",
    "])\n",
    "\n",
    "# Preprocessing for categorical features\n",
    "categorical_transformer = Pipeline(steps=[\n",
    "    ('onehot', OneHotEncoder(handle_unknown='ignore'))\n",
    "])\n",
    "\n",
    "# Combining preprocessing steps\n",
    "preprocessor = ColumnTransformer(\n",
    "    transformers=[\n",
    "        ('num', numeric_transformer, numeric_features),\n",
    "        ('cat', categorical_transformer, categorical_features)\n",
    "    ])\n",
    "\n",
    "# Creating the preprocessing and training pipeline with LightGBM classifier\n",
    "pipeline = Pipeline(steps=[('preprocessor', preprocessor),\n",
    "                           ('classifier', LGBMClassifier())])\n",
    "\n",
    "# Training the model with the undersampled dataset\n",
    "pipeline.fit(X_train, y_train)\n",
    "\n",
    "# Making predictions (make sure to drop the target variable from X_test if you've added it)\n",
    "y_pred = pipeline.predict(X_test)\n",
    "\n",
    "test_accuracy = accuracy_score(y_test, y_pred)\n",
    "\n",
    "# Evaluate the model\n",
    "print(\"Test Accuracy:\", test_accuracy)"
   ]
  },
  {
   "cell_type": "code",
   "execution_count": 91,
   "id": "cc05e47b",
   "metadata": {},
   "outputs": [],
   "source": [
    "import pickle\n",
    "\n",
    "# Save the pipeline to a file\n",
    "filename = 'employee_performance_prediction_model.pkl'\n",
    "\n",
    "model_data = {\n",
    "    'model': pipeline,\n",
    "    'accuracy':test_accuracy\n",
    "}\n",
    "\n",
    "pickle.dump(model_data, open(filename, 'wb'))"
   ]
  },
  {
   "cell_type": "code",
   "execution_count": 92,
   "id": "44cf32e4",
   "metadata": {
    "scrolled": false
   },
   "outputs": [
    {
     "name": "stdout",
     "output_type": "stream",
     "text": [
      "Predicted Employee Performance: High Performance\n",
      "Models Accuracy: 72.37%\n"
     ]
    }
   ],
   "source": [
    "model_data = pickle.load(open('employee_performance_prediction_model.pkl', 'rb'))\n",
    "\n",
    "model = model_data['model']\n",
    "model_accuracy = model_data['accuracy']\n",
    "\n",
    "# Example input data (replace this with actual input data)\n",
    "# This should be a dict or DataFrame containing the features for prediction\n",
    "input_data = {\n",
    "    'no_of_trainings': [2],\n",
    "    'age': [28],\n",
    "    'previous_year_rating': [5],\n",
    "    'length_of_service': [31],\n",
    "    'awards_won': [1],\n",
    "    'avg_training_score': [95],\n",
    "    'department': ['Sales'],\n",
    "    'region': ['region_2'],\n",
    "    'education': ['Master’s & above'],\n",
    "    'gender': ['f'],\n",
    "    'recruitment_channel': ['Sourcing']\n",
    "}\n",
    "\n",
    "# Convert the input data to a DataFrame or use it directly if already in DataFrame format\n",
    "input_df = pd.DataFrame(input_data)\n",
    "\n",
    "# Make a prediction with the loaded model\n",
    "# (The model pipeline will handle the preprocessing steps)\n",
    "prediction = model.predict(input_df)\n",
    "\n",
    "output = 'High Performance' if prediction == 1 else 'Low Performance' \n",
    "\n",
    "# Output the result\n",
    "print(\"Predicted Employee Performance:\", output)\n",
    "print(f'Models Accuracy: {test_accuracy*100:.2f}%')"
   ]
  },
  {
   "cell_type": "markdown",
   "id": "d8ac6f1d",
   "metadata": {},
   "source": [
    "### Make a final decision on the model to be employed for this purpose"
   ]
  },
  {
   "cell_type": "markdown",
   "id": "c8585307",
   "metadata": {},
   "source": [
    "Based on the analysis and the comparison of different models and scaling techniques, I recommend using the **LightGBM model with the Standard Scaler** for predicting employee performance. This recommendation is made considering the highest test set accuracy achieved with this combination and other factors such as model efficiency, scalability, and ease of interpretation.\n",
    "\n",
    "### Why LightGBM with Standard Scaler?\n",
    "\n",
    "1. **High Accuracy**: Both LightGBM and CatBoost models provided the highest accuracy on the test set when combined with the Standard Scaler or the MaxAbs Scaler. However, choosing between these two models requires considering additional factors beyond accuracy.\n",
    "\n",
    "2. **Efficiency and Scalability**: LightGBM is known for its high efficiency and speed, which makes it particularly suitable for large datasets and scenarios where model training speed is a concern. It uses gradient-based one-side sampling and exclusive feature bundling to reduce the amount of data and features it needs to process, which significantly speeds up the learning process without a significant accuracy trade-off.\n",
    "\n",
    "3. **Handling of Sparse Data**: While the MaxAbs Scaler is recommended for sparse data due to its ability to maintain the data's sparsity, the Standard Scaler was chosen because it generally works well across a wide range of scenarios, including datasets that aren't particularly sparse. If the data analyzed showed a distribution that could benefit from mean centering and scaling to unit variance, the Standard Scaler would help improve model performance by standardizing the feature scales.\n",
    "\n",
    "4. **Flexibility and Ease of Use**: LightGBM is flexible and can easily handle categorical features, which are common in employee performance datasets. Although CatBoost is also known for handling categorical features exceptionally well, LightGBM's faster training times and comparable performance make it a compelling choice.\n",
    "\n",
    "5. **Interpretability**: LightGBM models can be interpreted using various tools and techniques. While CatBoost might offer slightly better tools for interpretation, the difference is often marginal in practical applications. LightGBM's support for SHAP (SHapley Additive exPlanations) values, for example, allows for a deep understanding of feature importance and how features influence predictions.\n",
    "\n",
    "### Conclusion\n",
    "\n",
    "The choice of LightGBM with Standard Scaler is based on achieving a balance between high accuracy, efficiency, and scalability. This model is well-suited for predicting employee performance as it can handle the complexities and nuances of employee data effectively, providing insights that are both accurate and actionable."
   ]
  }
 ],
 "metadata": {
  "kernelspec": {
   "display_name": "Python 3 (ipykernel)",
   "language": "python",
   "name": "python3"
  },
  "language_info": {
   "codemirror_mode": {
    "name": "ipython",
    "version": 3
   },
   "file_extension": ".py",
   "mimetype": "text/x-python",
   "name": "python",
   "nbconvert_exporter": "python",
   "pygments_lexer": "ipython3",
   "version": "3.11.5"
  },
  "vscode": {
   "interpreter": {
    "hash": "4ec40f2292a0393c0e0f64ebf1844f83e920056e0c69f650bc8a9950d205821e"
   }
  }
 },
 "nbformat": 4,
 "nbformat_minor": 5
}
